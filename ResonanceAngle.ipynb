{
 "cells": [
  {
   "cell_type": "code",
   "execution_count": 8,
   "id": "eded8ce1-c354-4273-a0e9-ebc5dd34dbc8",
   "metadata": {},
   "outputs": [
    {
     "name": "stdout",
     "output_type": "stream",
     "text": [
      "The autoreload extension is already loaded. To reload it, use:\n",
      "  %reload_ext autoreload\n"
     ]
    }
   ],
   "source": [
    "%load_ext autoreload\n",
    "%autoreload 2\n",
    "import pyvisa\n",
    "import time\n",
    "from PyTLPMX import TLPMX\n",
    "import numpy as np\n",
    "import numpy.matlib\n",
    "import clr\n",
    "from matplotlib import pyplot as plt\n",
    "from datetime import datetime\n",
    "from timeit import default_timer as timer\n",
    "from scipy.optimize import curve_fit\n",
    "\n",
    "clr.AddReference(\"C:\\\\Program Files\\\\Thorlabs\\\\Kinesis\\\\Thorlabs.MotionControl.DeviceManagerCLI.dll\")\n",
    "clr.AddReference(\"C:\\\\Program Files\\\\Thorlabs\\\\Kinesis\\\\Thorlabs.MotionControl.GenericPiezoCLI.dll\")\n",
    "clr.AddReference(\"C:\\\\Program Files\\\\Thorlabs\\\\Kinesis\\\\Thorlabs.MotionControl.GenericMotorCLI.dll\")\n",
    "clr.AddReference(\"C:\\\\Program Files\\\\Thorlabs\\\\Kinesis\\\\Thorlabs.MotionControl.KCube.PositionAlignerCLI.dll\")\n",
    "clr.AddReference(\"C:\\\\Program Files\\\\Thorlabs\\\\Kinesis\\\\Thorlabs.MotionControl.KCube.PiezoCLI.dll\")\n",
    "\n",
    "# Import CLIs\n",
    "from Thorlabs.MotionControl.DeviceManagerCLI import *\n",
    "from Thorlabs.MotionControl.GenericMotorCLI import *\n",
    "from Thorlabs.MotionControl.KCube.PositionAlignerCLI import *\n",
    "from Thorlabs.MotionControl.KCube.PiezoCLI import *\n",
    "from Thorlabs.MotionControl.GenericPiezoCLI.Piezo import *\n",
    "from System import Decimal \n",
    "from pyximc import *\n",
    "from module import *\n",
    "from ConnectHardware import *"
   ]
  },
  {
   "cell_type": "code",
   "execution_count": null,
   "id": "6b3d0ddb-785e-449c-a81f-e6694b53447f",
   "metadata": {},
   "outputs": [],
   "source": [
    "# Connect to Power Meter\n",
    "meter = ConnectPM()\n",
    "\n",
    "# Initialise settings\n",
    "meter.setFreqMode(0)\n",
    "meter.setWavelength(633.0)\n",
    "\n",
    "# Turn on analog filter\n",
    "meter.setInputFilterState(False)\n",
    "time.sleep(1)\n",
    "\n",
    "#Connect to rotation stage\n",
    "motor_id = ConnectMotor()\n",
    "\n",
    "#measNoise(meter, 20)\n",
    "\n",
    "# Initialise parameters\n",
    "start=43.5\n",
    "end=46\n",
    "step=0.2\n",
    "mPeriod=500 # measurement time per angle in ms\n",
    "\n",
    "# Run soft scan of angles \n",
    "print(\"\\nRunning soft scan\")\n",
    "angles, power_vals, stdevs = PMAngleScan(meter, motor_id, start, end, step, mPeriod)\n",
    "\n",
    "#minIdx = np.argmin(power_vals)\n",
    "#print(\"\\nSoft estimate of resonance angle: \" + str(angles[minIdx]))\n",
    "\n",
    "\n",
    "\n",
    "print(\"Disconnecting devices...\")\n",
    "meter.close()\n",
    "lib.close_device(byref(c_int(motor_id)))\n",
    "print('End program')"
   ]
  },
  {
   "cell_type": "code",
   "execution_count": null,
   "id": "c40afef7-04b7-4d0e-a372-4f9ec1450a1a",
   "metadata": {},
   "outputs": [],
   "source": [
    "fig = plotFittedData(angles, power_vals, stdevs)"
   ]
  },
  {
   "cell_type": "code",
   "execution_count": null,
   "id": "2f55de4c-2365-4916-a3a3-6287b61a93f7",
   "metadata": {},
   "outputs": [],
   "source": []
  },
  {
   "cell_type": "code",
   "execution_count": 30,
   "id": "d6e52639-bc7d-4bd1-9494-27d8a5a88276",
   "metadata": {},
   "outputs": [
    {
     "name": "stdout",
     "output_type": "stream",
     "text": [
      "('ASRL3::INSTR', 'GPIB0::8::INSTR', 'GPIB0::9::INSTR')\n"
     ]
    }
   ],
   "source": [
    "# connect to lock-in amps\n",
    "rm = pyvisa.ResourceManager()\n",
    "amp1 = rm.open_resource('GPIB0::8::INSTR')\n",
    "amp2 = rm.open_resource('GPIB0::9::INSTR')\n",
    "print(rm.list_resources())"
   ]
  },
  {
   "cell_type": "code",
   "execution_count": 29,
   "id": "76774d04-3285-4cb6-90c4-bb3a68754d41",
   "metadata": {},
   "outputs": [
    {
     "name": "stdout",
     "output_type": "stream",
     "text": [
      "Device with URI xi-com:\\\\.\\COM3 successfully opened\n",
      "\n",
      "Get device info\n",
      "Result: 0\n",
      "\n",
      "Get status\n",
      "Result: 0\n"
     ]
    }
   ],
   "source": [
    "motor_id = ConnectMotor()"
   ]
  },
  {
   "cell_type": "code",
   "execution_count": 31,
   "id": "b3cba1bb-2092-42e5-98a4-ac1ef73fbb23",
   "metadata": {},
   "outputs": [
    {
     "name": "stdout",
     "output_type": "stream",
     "text": [
      "\n",
      "Starting measurements\n",
      "\n",
      "Moving to 43.5 degrees\n",
      "Position: 43.5 degrees \n",
      "\n",
      "Taking power measurement\n",
      "\n",
      "Moving to 43.7 degrees\n",
      "Position: 43.70000076293945 degrees \n",
      "\n",
      "Taking power measurement\n",
      "\n",
      "Moving to 43.900000000000006 degrees\n",
      "Position: 43.900001525878906 degrees \n",
      "\n",
      "Taking power measurement\n",
      "\n",
      "Moving to 44.10000000000001 degrees\n",
      "Position: 44.09996032714844 degrees \n",
      "\n",
      "Taking power measurement\n",
      "\n",
      "Moving to 44.30000000000001 degrees\n",
      "Position: 44.29996109008789 degrees \n",
      "\n",
      "Taking power measurement\n",
      "\n",
      "Moving to 44.500000000000014 degrees\n",
      "Position: 44.5 degrees \n",
      "\n",
      "Taking power measurement\n",
      "\n",
      "Moving to 44.70000000000002 degrees\n",
      "Position: 44.70000076293945 degrees \n",
      "\n",
      "Taking power measurement\n",
      "\n",
      "Moving to 44.90000000000002 degrees\n",
      "Position: 44.900001525878906 degrees \n",
      "\n",
      "Taking power measurement\n",
      "\n",
      "Moving to 45.10000000000002 degrees\n",
      "Position: 45.09996032714844 degrees \n",
      "\n",
      "Taking power measurement\n",
      "\n",
      "Moving to 45.300000000000026 degrees\n",
      "Position: 45.29996109008789 degrees \n",
      "\n",
      "Taking power measurement\n",
      "\n",
      "Moving to 45.50000000000003 degrees\n",
      "Position: 45.5 degrees \n",
      "\n",
      "Taking power measurement\n",
      "\n",
      "Moving to 45.70000000000003 degrees\n",
      "Position: 45.70000076293945 degrees \n",
      "\n",
      "Taking power measurement\n",
      "\n",
      "Moving to 45.900000000000034 degrees\n",
      "Position: 45.900001525878906 degrees \n",
      "\n",
      "Taking power measurement\n",
      "\n",
      "Moving to 46.10000000000004 degrees\n",
      "Position: 46.09996032714844 degrees \n",
      "\n",
      "Taking power measurement\n",
      "Scan finished\n",
      "\n"
     ]
    }
   ],
   "source": [
    "start=43.5\n",
    "end=46\n",
    "step=0.2\n",
    "angles = np.arange(start, end+step, step)\n",
    "\n",
    "TM_signal, TE_signal = AmpAngleScan(amp1, amp2, motor_id, angles)"
   ]
  },
  {
   "cell_type": "code",
   "execution_count": 32,
   "id": "194e6b80-ea06-427a-babe-bacfec46dbe5",
   "metadata": {},
   "outputs": [
    {
     "data": {
      "image/png": "[encoded data removed]",
      "text/plain": [
       "<Figure size 800x500 with 1 Axes>"
      ]
     },
     "metadata": {},
     "output_type": "display_data"
    }
   ],
   "source": [
    "# PLOT RESULTS\n",
    "fig, ax = plt.subplots(figsize=(8,5))\n",
    "\n",
    "# calculate error and plot graph\n",
    "ax.plot(angles, TM_signal, \"bx-\")\n",
    "#ax.plot(angles, TE_signal, \"rx-\")\n",
    "\n",
    "ax.set_xlabel('Angle of Incidence (deg)')\n",
    "ax.set_ylabel('Power (V)')\n",
    "ax.grid()\n",
    "plt.legend([\"TM signal\"]) #, \"TE signal\"])\n",
    "plt.show()"
   ]
  },
  {
   "cell_type": "code",
   "execution_count": 21,
   "id": "05bb939c-a087-48e0-8bea-12e74351ea61",
   "metadata": {},
   "outputs": [
    {
     "name": "stdout",
     "output_type": "stream",
     "text": [
      "\n",
      "Moving to 40 degrees\n"
     ]
    }
   ],
   "source": [
    "units = \"degrees\"\n",
    "calib = calibration_t()\n",
    "calib.A = c_double(0.01)   \n",
    "calib.MicrostepMode = 9    \n",
    "calib_move(lib, motor_id, 40, calib, units)\n",
    "test_wait_for_stop(lib, motor_id, 100)"
   ]
  },
  {
   "cell_type": "code",
   "execution_count": 33,
   "id": "66f5c2cb-8f0b-4cb3-8583-8583afd3f2d1",
   "metadata": {},
   "outputs": [
    {
     "name": "stdout",
     "output_type": "stream",
     "text": [
      "Disconnecting devices...\n",
      "End program\n"
     ]
    }
   ],
   "source": [
    "print(\"Disconnecting devices...\")\n",
    "rm.close()\n",
    "lib.close_device(byref(c_int(motor_id)))\n",
    "print('End program')"
   ]
  },
  {
   "cell_type": "code",
   "execution_count": null,
   "id": "a686ed8f-c9db-4654-9689-91eb8ca229a6",
   "metadata": {},
   "outputs": [],
   "source": [
    "18.75\n",
    "12.05"
   ]
  }
 ],
 "metadata": {
  "kernelspec": {
   "display_name": "Python 3 (ipykernel)",
   "language": "python",
   "name": "python3"
  },
  "language_info": {
   "codemirror_mode": {
    "name": "ipython",
    "version": 3
   },
   "file_extension": ".py",
   "mimetype": "text/x-python",
   "name": "python",
   "nbconvert_exporter": "python",
   "pygments_lexer": "ipython3",
   "version": "3.11.9"
  }
 },
 "nbformat": 4,
 "nbformat_minor": 5
}
